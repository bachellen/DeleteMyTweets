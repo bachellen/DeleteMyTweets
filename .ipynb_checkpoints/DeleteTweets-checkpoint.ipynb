{
 "cells": [
  {
   "cell_type": "code",
   "execution_count": 23,
   "metadata": {},
   "outputs": [],
   "source": [
    "# pip install tweepy\n",
    "# pip install python-twitter"
   ]
  },
  {
   "cell_type": "code",
   "execution_count": 2,
   "metadata": {},
   "outputs": [],
   "source": [
    "#!/usr/bin/env python\n",
    "\n",
    "import csv\n",
    "import sys\n",
    "import time\n",
    "import os\n",
    "import twitter\n",
    "\n",
    "\n",
    "def delete(api):\n",
    "    with open(\"output_got.csv\") as file:\n",
    "        count = 0\n",
    "\n",
    "        for row in csv.DictReader(file):\n",
    "            tweet_id = int(row[\"id\"])\n",
    "            try:\n",
    "                print (\"Deleting tweet\", tweet_id)\n",
    "\n",
    "                api.DestroyStatus(tweet_id)\n",
    "                count += 1\n",
    "                time.sleep(0.5)\n",
    "\n",
    "            except:\n",
    "                print (\"Exception\")\n",
    "\n",
    "    print (\"Number of deleted tweets:\", count)\n",
    "\n",
    "def main():\n",
    "    CONSUMER_KEY = ''\n",
    "    CONSUMER_SECRET = ''\n",
    "    ACCESS_TOKEN  = ''\n",
    "    ACCESS_SECRET = ''\n",
    "    api = twitter.Api(CONSUMER_KEY,\n",
    "                     CONSUMER_SECRET,\n",
    "                      ACCESS_TOKEN,\n",
    "                      ACCESS_SECRET)\n",
    "    delete(api)\n",
    "\n",
    "\n",
    "if __name__ == \"__main__\":\n",
    "    main()"
   ]
  }
 ],
 "metadata": {
  "kernelspec": {
   "display_name": "Python 3",
   "language": "python",
   "name": "python3"
  },
  "language_info": {
   "codemirror_mode": {
    "name": "ipython",
    "version": 3
   },
   "file_extension": ".py",
   "mimetype": "text/x-python",
   "name": "python",
   "nbconvert_exporter": "python",
   "pygments_lexer": "ipython3",
   "version": "3.7.4"
  }
 },
 "nbformat": 4,
 "nbformat_minor": 2
}
